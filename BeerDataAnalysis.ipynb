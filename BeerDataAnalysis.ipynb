{
 "cells": [
  {
   "cell_type": "code",
   "execution_count": 5,
   "id": "7b813892",
   "metadata": {},
   "outputs": [],
   "source": [
    "import pandas as pd\n",
    "df = pd.read_csv(r'C:\\Users\\ADMIN\\Data_Projects\\datasets\\BeerDataScienceProject.tar.bz2', compression='bz2')"
   ]
  },
  {
   "cell_type": "code",
   "execution_count": 6,
   "id": "637a285c",
   "metadata": {},
   "outputs": [
    {
     "data": {
      "text/plain": [
       "<bound method DataFrame.info of         beer_ABV  beer_beerId  beer_brewerId               beer_name  \\\n",
       "0            5.0        47986          10325            Sausa Weizen   \n",
       "1            6.2        48213          10325                Red Moon   \n",
       "2            6.5        48215          10325  Black Horse Black Beer   \n",
       "3            5.0        47969          10325              Sausa Pils   \n",
       "4            7.7        64883           1075           Cauldron DIPA   \n",
       "...          ...          ...            ...                     ...   \n",
       "528865       NaN         4032           3340       Dinkel Acker Dark   \n",
       "528866       NaN         4032           3340       Dinkel Acker Dark   \n",
       "528867       NaN         4032           3340       Dinkel Acker Dark   \n",
       "528868       NaN         4032           3340       Dinkel Acker Dark   \n",
       "528869       NaN         4032           3340       Dinkel Acker Dark   \n",
       "\n",
       "                            beer_style  review_appearance  review_palette  \\\n",
       "0                           Hefeweizen                2.5             2.0   \n",
       "1                   English Strong Ale                3.0             2.5   \n",
       "2               Foreign / Export Stout                3.0             2.5   \n",
       "3                      German Pilsener                3.5             3.0   \n",
       "4       American Double / Imperial IPA                4.0             4.5   \n",
       "...                                ...                ...             ...   \n",
       "528865             Munich Dunkel Lager                4.0             3.0   \n",
       "528866             Munich Dunkel Lager                4.0             3.5   \n",
       "528867             Munich Dunkel Lager                4.0             4.0   \n",
       "528868             Munich Dunkel Lager                4.0             3.0   \n",
       "528869             Munich Dunkel Lager                4.0             4.0   \n",
       "\n",
       "        review_overall  review_taste review_profileName  review_aroma  \\\n",
       "0                  1.5           1.5            stcules           1.5   \n",
       "1                  3.0           3.0            stcules           3.0   \n",
       "2                  3.0           3.0            stcules           3.0   \n",
       "3                  3.0           2.5            stcules           3.0   \n",
       "4                  4.0           4.0     johnmichaelsen           4.5   \n",
       "...                ...           ...                ...           ...   \n",
       "528865             4.0           3.5    orangemoustache           4.0   \n",
       "528866             3.0           3.0        MisterStout           3.0   \n",
       "528867             4.5           4.0            meechum           4.5   \n",
       "528868             4.0           4.0          Dodo2step           4.5   \n",
       "528869             4.0           4.0         jenbys2001           4.0   \n",
       "\n",
       "                                              review_text  review_time  \n",
       "0       A lot of foam. But a lot. In the smell some ba...   1234817823  \n",
       "1       Dark red color, light beige foam, average. In ...   1235915097  \n",
       "2       Almost totally black. Beige foam, quite compac...   1235916604  \n",
       "3       Golden yellow color. White, compact foam, quit...   1234725145  \n",
       "4       According to the website, the style for the Ca...   1293735206  \n",
       "...                                                   ...          ...  \n",
       "528865  A-pours a reddish amber that looks very nice,l...   1205212721  \n",
       "528866  I don't really have anything special to say ab...   1203490783  \n",
       "528867  Had this on tap at Vreny's Beirgarten A - Came...   1201320897  \n",
       "528868  Purchased at Market Cross Pub in carlisle, PA....   1201215290  \n",
       "528869  I ordered a mug of this beer at Schnitzelhaus,...   1200336367  \n",
       "\n",
       "[528870 rows x 13 columns]>"
      ]
     },
     "execution_count": 6,
     "metadata": {},
     "output_type": "execute_result"
    }
   ],
   "source": [
    "df.info"
   ]
  },
  {
   "cell_type": "code",
   "execution_count": 7,
   "id": "a6b55d2e",
   "metadata": {},
   "outputs": [
    {
     "data": {
      "text/html": [
       "<div>\n",
       "<style scoped>\n",
       "    .dataframe tbody tr th:only-of-type {\n",
       "        vertical-align: middle;\n",
       "    }\n",
       "\n",
       "    .dataframe tbody tr th {\n",
       "        vertical-align: top;\n",
       "    }\n",
       "\n",
       "    .dataframe thead th {\n",
       "        text-align: right;\n",
       "    }\n",
       "</style>\n",
       "<table border=\"1\" class=\"dataframe\">\n",
       "  <thead>\n",
       "    <tr style=\"text-align: right;\">\n",
       "      <th></th>\n",
       "      <th>beer_ABV</th>\n",
       "      <th>beer_beerId</th>\n",
       "      <th>beer_brewerId</th>\n",
       "      <th>beer_name</th>\n",
       "      <th>beer_style</th>\n",
       "      <th>review_appearance</th>\n",
       "      <th>review_palette</th>\n",
       "      <th>review_overall</th>\n",
       "      <th>review_taste</th>\n",
       "      <th>review_profileName</th>\n",
       "      <th>review_aroma</th>\n",
       "      <th>review_text</th>\n",
       "      <th>review_time</th>\n",
       "    </tr>\n",
       "  </thead>\n",
       "  <tbody>\n",
       "    <tr>\n",
       "      <th>0</th>\n",
       "      <td>5.0</td>\n",
       "      <td>47986</td>\n",
       "      <td>10325</td>\n",
       "      <td>Sausa Weizen</td>\n",
       "      <td>Hefeweizen</td>\n",
       "      <td>2.5</td>\n",
       "      <td>2.0</td>\n",
       "      <td>1.5</td>\n",
       "      <td>1.5</td>\n",
       "      <td>stcules</td>\n",
       "      <td>1.5</td>\n",
       "      <td>A lot of foam. But a lot. In the smell some ba...</td>\n",
       "      <td>1234817823</td>\n",
       "    </tr>\n",
       "    <tr>\n",
       "      <th>1</th>\n",
       "      <td>6.2</td>\n",
       "      <td>48213</td>\n",
       "      <td>10325</td>\n",
       "      <td>Red Moon</td>\n",
       "      <td>English Strong Ale</td>\n",
       "      <td>3.0</td>\n",
       "      <td>2.5</td>\n",
       "      <td>3.0</td>\n",
       "      <td>3.0</td>\n",
       "      <td>stcules</td>\n",
       "      <td>3.0</td>\n",
       "      <td>Dark red color, light beige foam, average. In ...</td>\n",
       "      <td>1235915097</td>\n",
       "    </tr>\n",
       "    <tr>\n",
       "      <th>2</th>\n",
       "      <td>6.5</td>\n",
       "      <td>48215</td>\n",
       "      <td>10325</td>\n",
       "      <td>Black Horse Black Beer</td>\n",
       "      <td>Foreign / Export Stout</td>\n",
       "      <td>3.0</td>\n",
       "      <td>2.5</td>\n",
       "      <td>3.0</td>\n",
       "      <td>3.0</td>\n",
       "      <td>stcules</td>\n",
       "      <td>3.0</td>\n",
       "      <td>Almost totally black. Beige foam, quite compac...</td>\n",
       "      <td>1235916604</td>\n",
       "    </tr>\n",
       "    <tr>\n",
       "      <th>3</th>\n",
       "      <td>5.0</td>\n",
       "      <td>47969</td>\n",
       "      <td>10325</td>\n",
       "      <td>Sausa Pils</td>\n",
       "      <td>German Pilsener</td>\n",
       "      <td>3.5</td>\n",
       "      <td>3.0</td>\n",
       "      <td>3.0</td>\n",
       "      <td>2.5</td>\n",
       "      <td>stcules</td>\n",
       "      <td>3.0</td>\n",
       "      <td>Golden yellow color. White, compact foam, quit...</td>\n",
       "      <td>1234725145</td>\n",
       "    </tr>\n",
       "    <tr>\n",
       "      <th>4</th>\n",
       "      <td>7.7</td>\n",
       "      <td>64883</td>\n",
       "      <td>1075</td>\n",
       "      <td>Cauldron DIPA</td>\n",
       "      <td>American Double / Imperial IPA</td>\n",
       "      <td>4.0</td>\n",
       "      <td>4.5</td>\n",
       "      <td>4.0</td>\n",
       "      <td>4.0</td>\n",
       "      <td>johnmichaelsen</td>\n",
       "      <td>4.5</td>\n",
       "      <td>According to the website, the style for the Ca...</td>\n",
       "      <td>1293735206</td>\n",
       "    </tr>\n",
       "  </tbody>\n",
       "</table>\n",
       "</div>"
      ],
      "text/plain": [
       "   beer_ABV  beer_beerId  beer_brewerId               beer_name  \\\n",
       "0       5.0        47986          10325            Sausa Weizen   \n",
       "1       6.2        48213          10325                Red Moon   \n",
       "2       6.5        48215          10325  Black Horse Black Beer   \n",
       "3       5.0        47969          10325              Sausa Pils   \n",
       "4       7.7        64883           1075           Cauldron DIPA   \n",
       "\n",
       "                       beer_style  review_appearance  review_palette  \\\n",
       "0                      Hefeweizen                2.5             2.0   \n",
       "1              English Strong Ale                3.0             2.5   \n",
       "2          Foreign / Export Stout                3.0             2.5   \n",
       "3                 German Pilsener                3.5             3.0   \n",
       "4  American Double / Imperial IPA                4.0             4.5   \n",
       "\n",
       "   review_overall  review_taste review_profileName  review_aroma  \\\n",
       "0             1.5           1.5            stcules           1.5   \n",
       "1             3.0           3.0            stcules           3.0   \n",
       "2             3.0           3.0            stcules           3.0   \n",
       "3             3.0           2.5            stcules           3.0   \n",
       "4             4.0           4.0     johnmichaelsen           4.5   \n",
       "\n",
       "                                         review_text  review_time  \n",
       "0  A lot of foam. But a lot. In the smell some ba...   1234817823  \n",
       "1  Dark red color, light beige foam, average. In ...   1235915097  \n",
       "2  Almost totally black. Beige foam, quite compac...   1235916604  \n",
       "3  Golden yellow color. White, compact foam, quit...   1234725145  \n",
       "4  According to the website, the style for the Ca...   1293735206  "
      ]
     },
     "execution_count": 7,
     "metadata": {},
     "output_type": "execute_result"
    }
   ],
   "source": [
    "df.head(5)"
   ]
  },
  {
   "cell_type": "code",
   "execution_count": 8,
   "id": "6cc24a35",
   "metadata": {},
   "outputs": [
    {
     "data": {
      "text/plain": [
       "(528870, 13)"
      ]
     },
     "execution_count": 8,
     "metadata": {},
     "output_type": "execute_result"
    }
   ],
   "source": [
    "df.shape"
   ]
  },
  {
   "cell_type": "code",
   "execution_count": 9,
   "id": "03249204",
   "metadata": {},
   "outputs": [
    {
     "data": {
      "text/plain": [
       "Index(['beer_ABV', 'beer_beerId', 'beer_brewerId', 'beer_name', 'beer_style',\n",
       "       'review_appearance', 'review_palette', 'review_overall', 'review_taste',\n",
       "       'review_profileName', 'review_aroma', 'review_text', 'review_time'],\n",
       "      dtype='object')"
      ]
     },
     "execution_count": 9,
     "metadata": {},
     "output_type": "execute_result"
    }
   ],
   "source": [
    "df.columns"
   ]
  },
  {
   "cell_type": "code",
   "execution_count": 11,
   "id": "3a97f371",
   "metadata": {},
   "outputs": [
    {
     "data": {
      "text/html": [
       "<div>\n",
       "<style scoped>\n",
       "    .dataframe tbody tr th:only-of-type {\n",
       "        vertical-align: middle;\n",
       "    }\n",
       "\n",
       "    .dataframe tbody tr th {\n",
       "        vertical-align: top;\n",
       "    }\n",
       "\n",
       "    .dataframe thead th {\n",
       "        text-align: right;\n",
       "    }\n",
       "</style>\n",
       "<table border=\"1\" class=\"dataframe\">\n",
       "  <thead>\n",
       "    <tr style=\"text-align: right;\">\n",
       "      <th></th>\n",
       "      <th>review_appearance</th>\n",
       "      <th>review_palette</th>\n",
       "      <th>review_overall</th>\n",
       "      <th>review_taste</th>\n",
       "      <th>review_aroma</th>\n",
       "    </tr>\n",
       "  </thead>\n",
       "  <tbody>\n",
       "    <tr>\n",
       "      <th>count</th>\n",
       "      <td>528870.000000</td>\n",
       "      <td>528870.000000</td>\n",
       "      <td>528870.000000</td>\n",
       "      <td>528870.000000</td>\n",
       "      <td>528870.000000</td>\n",
       "    </tr>\n",
       "    <tr>\n",
       "      <th>mean</th>\n",
       "      <td>3.864522</td>\n",
       "      <td>3.758926</td>\n",
       "      <td>3.833197</td>\n",
       "      <td>3.765993</td>\n",
       "      <td>3.817350</td>\n",
       "    </tr>\n",
       "    <tr>\n",
       "      <th>std</th>\n",
       "      <td>0.604010</td>\n",
       "      <td>0.685335</td>\n",
       "      <td>0.709962</td>\n",
       "      <td>0.669018</td>\n",
       "      <td>0.718903</td>\n",
       "    </tr>\n",
       "    <tr>\n",
       "      <th>min</th>\n",
       "      <td>0.000000</td>\n",
       "      <td>1.000000</td>\n",
       "      <td>0.000000</td>\n",
       "      <td>1.000000</td>\n",
       "      <td>1.000000</td>\n",
       "    </tr>\n",
       "    <tr>\n",
       "      <th>25%</th>\n",
       "      <td>3.500000</td>\n",
       "      <td>3.500000</td>\n",
       "      <td>3.500000</td>\n",
       "      <td>3.500000</td>\n",
       "      <td>3.500000</td>\n",
       "    </tr>\n",
       "    <tr>\n",
       "      <th>50%</th>\n",
       "      <td>4.000000</td>\n",
       "      <td>4.000000</td>\n",
       "      <td>4.000000</td>\n",
       "      <td>4.000000</td>\n",
       "      <td>4.000000</td>\n",
       "    </tr>\n",
       "    <tr>\n",
       "      <th>75%</th>\n",
       "      <td>4.000000</td>\n",
       "      <td>4.000000</td>\n",
       "      <td>4.500000</td>\n",
       "      <td>4.000000</td>\n",
       "      <td>4.500000</td>\n",
       "    </tr>\n",
       "    <tr>\n",
       "      <th>max</th>\n",
       "      <td>5.000000</td>\n",
       "      <td>5.000000</td>\n",
       "      <td>5.000000</td>\n",
       "      <td>5.000000</td>\n",
       "      <td>5.000000</td>\n",
       "    </tr>\n",
       "  </tbody>\n",
       "</table>\n",
       "</div>"
      ],
      "text/plain": [
       "       review_appearance  review_palette  review_overall   review_taste  \\\n",
       "count      528870.000000   528870.000000   528870.000000  528870.000000   \n",
       "mean            3.864522        3.758926        3.833197       3.765993   \n",
       "std             0.604010        0.685335        0.709962       0.669018   \n",
       "min             0.000000        1.000000        0.000000       1.000000   \n",
       "25%             3.500000        3.500000        3.500000       3.500000   \n",
       "50%             4.000000        4.000000        4.000000       4.000000   \n",
       "75%             4.000000        4.000000        4.500000       4.000000   \n",
       "max             5.000000        5.000000        5.000000       5.000000   \n",
       "\n",
       "        review_aroma  \n",
       "count  528870.000000  \n",
       "mean        3.817350  \n",
       "std         0.718903  \n",
       "min         1.000000  \n",
       "25%         3.500000  \n",
       "50%         4.000000  \n",
       "75%         4.500000  \n",
       "max         5.000000  "
      ]
     },
     "execution_count": 11,
     "metadata": {},
     "output_type": "execute_result"
    }
   ],
   "source": [
    "df[['review_appearance', 'review_palette', 'review_overall', 'review_taste', 'review_aroma']].describe()"
   ]
  },
  {
   "cell_type": "code",
   "execution_count": 13,
   "id": "fb4f01f2",
   "metadata": {},
   "outputs": [
    {
     "name": "stdout",
     "output_type": "stream",
     "text": [
      "<class 'pandas.core.frame.DataFrame'>\n",
      "RangeIndex: 528870 entries, 0 to 528869\n",
      "Data columns (total 13 columns):\n",
      " #   Column              Non-Null Count   Dtype  \n",
      "---  ------              --------------   -----  \n",
      " 0   beer_ABV            508590 non-null  float64\n",
      " 1   beer_beerId         528870 non-null  int64  \n",
      " 2   beer_brewerId       528870 non-null  int64  \n",
      " 3   beer_name           528870 non-null  object \n",
      " 4   beer_style          528870 non-null  object \n",
      " 5   review_appearance   528870 non-null  float64\n",
      " 6   review_palette      528870 non-null  float64\n",
      " 7   review_overall      528870 non-null  float64\n",
      " 8   review_taste        528870 non-null  float64\n",
      " 9   review_profileName  528755 non-null  object \n",
      " 10  review_aroma        528870 non-null  float64\n",
      " 11  review_text         528751 non-null  object \n",
      " 12  review_time         528870 non-null  int64  \n",
      "dtypes: float64(6), int64(3), object(4)\n",
      "memory usage: 52.5+ MB\n"
     ]
    }
   ],
   "source": [
    "df.info()"
   ]
  },
  {
   "cell_type": "code",
   "execution_count": 14,
   "id": "31a020ac",
   "metadata": {},
   "outputs": [],
   "source": [
    "df = df[df['review_appearance']>0]\n",
    "df = df[df['review_overall']>0]"
   ]
  },
  {
   "cell_type": "code",
   "execution_count": 15,
   "id": "06858c32",
   "metadata": {},
   "outputs": [
    {
     "name": "stdout",
     "output_type": "stream",
     "text": [
      "<class 'pandas.core.frame.DataFrame'>\n",
      "Index: 528867 entries, 0 to 528869\n",
      "Data columns (total 13 columns):\n",
      " #   Column              Non-Null Count   Dtype  \n",
      "---  ------              --------------   -----  \n",
      " 0   beer_ABV            508587 non-null  float64\n",
      " 1   beer_beerId         528867 non-null  int64  \n",
      " 2   beer_brewerId       528867 non-null  int64  \n",
      " 3   beer_name           528867 non-null  object \n",
      " 4   beer_style          528867 non-null  object \n",
      " 5   review_appearance   528867 non-null  float64\n",
      " 6   review_palette      528867 non-null  float64\n",
      " 7   review_overall      528867 non-null  float64\n",
      " 8   review_taste        528867 non-null  float64\n",
      " 9   review_profileName  528752 non-null  object \n",
      " 10  review_aroma        528867 non-null  float64\n",
      " 11  review_text         528748 non-null  object \n",
      " 12  review_time         528867 non-null  int64  \n",
      "dtypes: float64(6), int64(3), object(4)\n",
      "memory usage: 56.5+ MB\n"
     ]
    }
   ],
   "source": [
    "df.info()"
   ]
  },
  {
   "cell_type": "code",
   "execution_count": 18,
   "id": "4bb4b7d3",
   "metadata": {},
   "outputs": [],
   "source": [
    "df = df.dropna()"
   ]
  },
  {
   "cell_type": "code",
   "execution_count": 19,
   "id": "0d66a6f4",
   "metadata": {},
   "outputs": [
    {
     "name": "stdout",
     "output_type": "stream",
     "text": [
      "<class 'pandas.core.frame.DataFrame'>\n",
      "Index: 508355 entries, 0 to 528796\n",
      "Data columns (total 13 columns):\n",
      " #   Column              Non-Null Count   Dtype  \n",
      "---  ------              --------------   -----  \n",
      " 0   beer_ABV            508355 non-null  float64\n",
      " 1   beer_beerId         508355 non-null  int64  \n",
      " 2   beer_brewerId       508355 non-null  int64  \n",
      " 3   beer_name           508355 non-null  object \n",
      " 4   beer_style          508355 non-null  object \n",
      " 5   review_appearance   508355 non-null  float64\n",
      " 6   review_palette      508355 non-null  float64\n",
      " 7   review_overall      508355 non-null  float64\n",
      " 8   review_taste        508355 non-null  float64\n",
      " 9   review_profileName  508355 non-null  object \n",
      " 10  review_aroma        508355 non-null  float64\n",
      " 11  review_text         508355 non-null  object \n",
      " 12  review_time         508355 non-null  int64  \n",
      "dtypes: float64(6), int64(3), object(4)\n",
      "memory usage: 54.3+ MB\n"
     ]
    }
   ],
   "source": [
    "df.info()"
   ]
  },
  {
   "cell_type": "code",
   "execution_count": 21,
   "id": "d73d41f5",
   "metadata": {},
   "outputs": [],
   "source": [
    "df = df.sort_values(by = 'review_overall', ascending = False).drop_duplicates(subset=['review_profileName', 'beer_beerId'], keep = 'first')"
   ]
  },
  {
   "cell_type": "code",
   "execution_count": 22,
   "id": "fca5e843",
   "metadata": {},
   "outputs": [
    {
     "data": {
      "text/plain": [
       "(503697, 13)"
      ]
     },
     "execution_count": 22,
     "metadata": {},
     "output_type": "execute_result"
    }
   ],
   "source": [
    "df.shape"
   ]
  },
  {
   "cell_type": "code",
   "execution_count": 41,
   "id": "d1913b51",
   "metadata": {},
   "outputs": [],
   "source": [
    "df_q1 = df.groupby(by = ['beer_brewerId'])['beer_ABV'].mean().reset_index().sort_values(by = 'beer_ABV', ascending = False)\n",
    "df_q1 = df_q1.rename(columns = {'beer_ABV': 'beer_ABV_mean'})"
   ]
  },
  {
   "cell_type": "code",
   "execution_count": 42,
   "id": "50071763",
   "metadata": {},
   "outputs": [
    {
     "data": {
      "text/html": [
       "<div>\n",
       "<style scoped>\n",
       "    .dataframe tbody tr th:only-of-type {\n",
       "        vertical-align: middle;\n",
       "    }\n",
       "\n",
       "    .dataframe tbody tr th {\n",
       "        vertical-align: top;\n",
       "    }\n",
       "\n",
       "    .dataframe thead th {\n",
       "        text-align: right;\n",
       "    }\n",
       "</style>\n",
       "<table border=\"1\" class=\"dataframe\">\n",
       "  <thead>\n",
       "    <tr style=\"text-align: right;\">\n",
       "      <th></th>\n",
       "      <th>beer_brewerId</th>\n",
       "      <th>beer_ABV_mean</th>\n",
       "      <th>rank</th>\n",
       "    </tr>\n",
       "  </thead>\n",
       "  <tbody>\n",
       "    <tr>\n",
       "      <th>699</th>\n",
       "      <td>6513</td>\n",
       "      <td>19.228824</td>\n",
       "      <td>1.0</td>\n",
       "    </tr>\n",
       "    <tr>\n",
       "      <th>165</th>\n",
       "      <td>736</td>\n",
       "      <td>13.750000</td>\n",
       "      <td>2.0</td>\n",
       "    </tr>\n",
       "    <tr>\n",
       "      <th>1466</th>\n",
       "      <td>24215</td>\n",
       "      <td>12.466667</td>\n",
       "      <td>3.0</td>\n",
       "    </tr>\n",
       "  </tbody>\n",
       "</table>\n",
       "</div>"
      ],
      "text/plain": [
       "      beer_brewerId  beer_ABV_mean  rank\n",
       "699            6513      19.228824   1.0\n",
       "165             736      13.750000   2.0\n",
       "1466          24215      12.466667   3.0"
      ]
     },
     "execution_count": 42,
     "metadata": {},
     "output_type": "execute_result"
    }
   ],
   "source": [
    "df_q1['rank'] = df_q1['beer_ABV_mean'].rank(method = 'dense', ascending = False)\n",
    "df_q1[df_q1['rank']<=3]"
   ]
  },
  {
   "cell_type": "code",
   "execution_count": 48,
   "id": "529ebf67",
   "metadata": {},
   "outputs": [
    {
     "data": {
      "image/png": "[encoded data removed]",
      "text/plain": [
       "<Figure size 640x480 with 1 Axes>"
      ]
     },
     "metadata": {},
     "output_type": "display_data"
    }
   ],
   "source": [
    "import matplotlib.pyplot as plt\n",
    "_ = df_q1.boxplot(column = ['beer_ABV_mean'])\n",
    "plt.show()"
   ]
  },
  {
   "cell_type": "code",
   "execution_count": 53,
   "id": "16164b46",
   "metadata": {},
   "outputs": [],
   "source": [
    "df['review_year'] = pd.to_datetime(df['review_time'], unit = 's').dt.year"
   ]
  },
  {
   "cell_type": "code",
   "execution_count": 59,
   "id": "316048ad",
   "metadata": {},
   "outputs": [
    {
     "data": {
      "text/html": [
       "<div>\n",
       "<style scoped>\n",
       "    .dataframe tbody tr th:only-of-type {\n",
       "        vertical-align: middle;\n",
       "    }\n",
       "\n",
       "    .dataframe tbody tr th {\n",
       "        vertical-align: top;\n",
       "    }\n",
       "\n",
       "    .dataframe thead th {\n",
       "        text-align: right;\n",
       "    }\n",
       "</style>\n",
       "<table border=\"1\" class=\"dataframe\">\n",
       "  <thead>\n",
       "    <tr style=\"text-align: right;\">\n",
       "      <th></th>\n",
       "      <th>review_year</th>\n",
       "      <th>reviews_per_year</th>\n",
       "    </tr>\n",
       "  </thead>\n",
       "  <tbody>\n",
       "    <tr>\n",
       "      <th>13</th>\n",
       "      <td>2011</td>\n",
       "      <td>107164</td>\n",
       "    </tr>\n",
       "    <tr>\n",
       "      <th>12</th>\n",
       "      <td>2010</td>\n",
       "      <td>90496</td>\n",
       "    </tr>\n",
       "    <tr>\n",
       "      <th>11</th>\n",
       "      <td>2009</td>\n",
       "      <td>80456</td>\n",
       "    </tr>\n",
       "    <tr>\n",
       "      <th>10</th>\n",
       "      <td>2008</td>\n",
       "      <td>65931</td>\n",
       "    </tr>\n",
       "    <tr>\n",
       "      <th>9</th>\n",
       "      <td>2007</td>\n",
       "      <td>44073</td>\n",
       "    </tr>\n",
       "    <tr>\n",
       "      <th>8</th>\n",
       "      <td>2006</td>\n",
       "      <td>40366</td>\n",
       "    </tr>\n",
       "    <tr>\n",
       "      <th>7</th>\n",
       "      <td>2005</td>\n",
       "      <td>27503</td>\n",
       "    </tr>\n",
       "    <tr>\n",
       "      <th>6</th>\n",
       "      <td>2004</td>\n",
       "      <td>21038</td>\n",
       "    </tr>\n",
       "    <tr>\n",
       "      <th>5</th>\n",
       "      <td>2003</td>\n",
       "      <td>16304</td>\n",
       "    </tr>\n",
       "    <tr>\n",
       "      <th>4</th>\n",
       "      <td>2002</td>\n",
       "      <td>6725</td>\n",
       "    </tr>\n",
       "    <tr>\n",
       "      <th>14</th>\n",
       "      <td>2012</td>\n",
       "      <td>3057</td>\n",
       "    </tr>\n",
       "    <tr>\n",
       "      <th>3</th>\n",
       "      <td>2001</td>\n",
       "      <td>534</td>\n",
       "    </tr>\n",
       "    <tr>\n",
       "      <th>2</th>\n",
       "      <td>2000</td>\n",
       "      <td>29</td>\n",
       "    </tr>\n",
       "    <tr>\n",
       "      <th>0</th>\n",
       "      <td>1998</td>\n",
       "      <td>11</td>\n",
       "    </tr>\n",
       "    <tr>\n",
       "      <th>1</th>\n",
       "      <td>1999</td>\n",
       "      <td>10</td>\n",
       "    </tr>\n",
       "  </tbody>\n",
       "</table>\n",
       "</div>"
      ],
      "text/plain": [
       "    review_year  reviews_per_year\n",
       "13         2011            107164\n",
       "12         2010             90496\n",
       "11         2009             80456\n",
       "10         2008             65931\n",
       "9          2007             44073\n",
       "8          2006             40366\n",
       "7          2005             27503\n",
       "6          2004             21038\n",
       "5          2003             16304\n",
       "4          2002              6725\n",
       "14         2012              3057\n",
       "3          2001               534\n",
       "2          2000                29\n",
       "0          1998                11\n",
       "1          1999                10"
      ]
     },
     "execution_count": 59,
     "metadata": {},
     "output_type": "execute_result"
    }
   ],
   "source": [
    "df_q2 = df.groupby(by = ['review_year']).size().to_frame('reviews_per_year').reset_index()\n",
    "df_q2.sort_values(by = ['reviews_per_year'], ascending = False)"
   ]
  },
  {
   "cell_type": "code",
   "execution_count": 61,
   "id": "a1749db3",
   "metadata": {},
   "outputs": [],
   "source": [
    "df_q3 = df.groupby(by = df['beer_beerId'])[['review_taste','review_aroma', 'review_appearance', 'review_palette', 'review_overall']].mean()"
   ]
  },
  {
   "cell_type": "code",
   "execution_count": 63,
   "id": "9799631c",
   "metadata": {},
   "outputs": [
    {
     "data": {
      "text/html": [
       "<div>\n",
       "<style scoped>\n",
       "    .dataframe tbody tr th:only-of-type {\n",
       "        vertical-align: middle;\n",
       "    }\n",
       "\n",
       "    .dataframe tbody tr th {\n",
       "        vertical-align: top;\n",
       "    }\n",
       "\n",
       "    .dataframe thead th {\n",
       "        text-align: right;\n",
       "    }\n",
       "</style>\n",
       "<table border=\"1\" class=\"dataframe\">\n",
       "  <thead>\n",
       "    <tr style=\"text-align: right;\">\n",
       "      <th></th>\n",
       "      <th>review_taste</th>\n",
       "      <th>review_aroma</th>\n",
       "      <th>review_appearance</th>\n",
       "      <th>review_palette</th>\n",
       "      <th>review_overall</th>\n",
       "    </tr>\n",
       "  </thead>\n",
       "  <tbody>\n",
       "    <tr>\n",
       "      <th>review_taste</th>\n",
       "      <td>1.000000</td>\n",
       "      <td>0.835088</td>\n",
       "      <td>0.682127</td>\n",
       "      <td>0.756303</td>\n",
       "      <td>0.823181</td>\n",
       "    </tr>\n",
       "    <tr>\n",
       "      <th>review_aroma</th>\n",
       "      <td>0.835088</td>\n",
       "      <td>1.000000</td>\n",
       "      <td>0.660223</td>\n",
       "      <td>0.825980</td>\n",
       "      <td>0.883871</td>\n",
       "    </tr>\n",
       "    <tr>\n",
       "      <th>review_appearance</th>\n",
       "      <td>0.682127</td>\n",
       "      <td>0.660223</td>\n",
       "      <td>1.000000</td>\n",
       "      <td>0.669148</td>\n",
       "      <td>0.637575</td>\n",
       "    </tr>\n",
       "    <tr>\n",
       "      <th>review_palette</th>\n",
       "      <td>0.756303</td>\n",
       "      <td>0.825980</td>\n",
       "      <td>0.669148</td>\n",
       "      <td>1.000000</td>\n",
       "      <td>0.766908</td>\n",
       "    </tr>\n",
       "    <tr>\n",
       "      <th>review_overall</th>\n",
       "      <td>0.823181</td>\n",
       "      <td>0.883871</td>\n",
       "      <td>0.637575</td>\n",
       "      <td>0.766908</td>\n",
       "      <td>1.000000</td>\n",
       "    </tr>\n",
       "  </tbody>\n",
       "</table>\n",
       "</div>"
      ],
      "text/plain": [
       "                   review_taste  review_aroma  review_appearance  \\\n",
       "review_taste           1.000000      0.835088           0.682127   \n",
       "review_aroma           0.835088      1.000000           0.660223   \n",
       "review_appearance      0.682127      0.660223           1.000000   \n",
       "review_palette         0.756303      0.825980           0.669148   \n",
       "review_overall         0.823181      0.883871           0.637575   \n",
       "\n",
       "                   review_palette  review_overall  \n",
       "review_taste             0.756303        0.823181  \n",
       "review_aroma             0.825980        0.883871  \n",
       "review_appearance        0.669148        0.637575  \n",
       "review_palette           1.000000        0.766908  \n",
       "review_overall           0.766908        1.000000  "
      ]
     },
     "execution_count": 63,
     "metadata": {},
     "output_type": "execute_result"
    }
   ],
   "source": [
    "df_q3.corr()"
   ]
  },
  {
   "cell_type": "code",
   "execution_count": 73,
   "id": "08c283e9",
   "metadata": {},
   "outputs": [
    {
     "data": {
      "image/png": "[encoded data removed]",
      "text/plain": [
       "<Figure size 1000x800 with 2 Axes>"
      ]
     },
     "metadata": {},
     "output_type": "display_data"
    }
   ],
   "source": [
    "import seaborn as sns\n",
    "plt.figure(figsize=(10,8))\n",
    "_ = sns.heatmap(data = df_q3.corr(), annot = True)\n",
    "plt.show()"
   ]
  },
  {
   "cell_type": "code",
   "execution_count": 77,
   "id": "6f0edab4",
   "metadata": {},
   "outputs": [],
   "source": [
    "df_q4 = df.groupby(by = df['beer_beerId'])['review_overall'].agg(['count', 'mean'])\n",
    "df_q4 = df_q4.rename(columns = {'count' : 'number_of_reviews', 'mean' : 'mean_rating'})"
   ]
  },
  {
   "cell_type": "code",
   "execution_count": 84,
   "id": "b5c2637b",
   "metadata": {},
   "outputs": [
    {
     "data": {
      "text/html": [
       "<div>\n",
       "<style scoped>\n",
       "    .dataframe tbody tr th:only-of-type {\n",
       "        vertical-align: middle;\n",
       "    }\n",
       "\n",
       "    .dataframe tbody tr th {\n",
       "        vertical-align: top;\n",
       "    }\n",
       "\n",
       "    .dataframe thead th {\n",
       "        text-align: right;\n",
       "    }\n",
       "</style>\n",
       "<table border=\"1\" class=\"dataframe\">\n",
       "  <thead>\n",
       "    <tr style=\"text-align: right;\">\n",
       "      <th></th>\n",
       "      <th>number_of_reviews</th>\n",
       "      <th>mean_rating</th>\n",
       "    </tr>\n",
       "    <tr>\n",
       "      <th>beer_beerId</th>\n",
       "      <th></th>\n",
       "      <th></th>\n",
       "    </tr>\n",
       "  </thead>\n",
       "  <tbody>\n",
       "    <tr>\n",
       "      <th>67283</th>\n",
       "      <td>1</td>\n",
       "      <td>5.0</td>\n",
       "    </tr>\n",
       "    <tr>\n",
       "      <th>29423</th>\n",
       "      <td>1</td>\n",
       "      <td>5.0</td>\n",
       "    </tr>\n",
       "    <tr>\n",
       "      <th>68991</th>\n",
       "      <td>1</td>\n",
       "      <td>5.0</td>\n",
       "    </tr>\n",
       "    <tr>\n",
       "      <th>21377</th>\n",
       "      <td>1</td>\n",
       "      <td>5.0</td>\n",
       "    </tr>\n",
       "    <tr>\n",
       "      <th>63618</th>\n",
       "      <td>1</td>\n",
       "      <td>5.0</td>\n",
       "    </tr>\n",
       "    <tr>\n",
       "      <th>65568</th>\n",
       "      <td>1</td>\n",
       "      <td>5.0</td>\n",
       "    </tr>\n",
       "    <tr>\n",
       "      <th>65556</th>\n",
       "      <td>1</td>\n",
       "      <td>5.0</td>\n",
       "    </tr>\n",
       "    <tr>\n",
       "      <th>65469</th>\n",
       "      <td>1</td>\n",
       "      <td>5.0</td>\n",
       "    </tr>\n",
       "    <tr>\n",
       "      <th>50496</th>\n",
       "      <td>1</td>\n",
       "      <td>5.0</td>\n",
       "    </tr>\n",
       "    <tr>\n",
       "      <th>30384</th>\n",
       "      <td>1</td>\n",
       "      <td>5.0</td>\n",
       "    </tr>\n",
       "  </tbody>\n",
       "</table>\n",
       "</div>"
      ],
      "text/plain": [
       "             number_of_reviews  mean_rating\n",
       "beer_beerId                                \n",
       "67283                        1          5.0\n",
       "29423                        1          5.0\n",
       "68991                        1          5.0\n",
       "21377                        1          5.0\n",
       "63618                        1          5.0\n",
       "65568                        1          5.0\n",
       "65556                        1          5.0\n",
       "65469                        1          5.0\n",
       "50496                        1          5.0\n",
       "30384                        1          5.0"
      ]
     },
     "execution_count": 84,
     "metadata": {},
     "output_type": "execute_result"
    }
   ],
   "source": [
    "df_q4.sort_values(by = 'mean_rating', ascending = False, inplace = True)\n",
    "df_q4.head(10)"
   ]
  },
  {
   "cell_type": "code",
   "execution_count": 89,
   "id": "9a43ccf4",
   "metadata": {},
   "outputs": [
    {
     "data": {
      "image/png": "[encoded data removed]",
      "text/plain": [
       "<Figure size 1000x700 with 1 Axes>"
      ]
     },
     "metadata": {},
     "output_type": "display_data"
    }
   ],
   "source": [
    "_ = df_q4.hist(column = 'number_of_reviews', bins = 40, figsize = (10,7))\n",
    "plt.show()"
   ]
  },
  {
   "cell_type": "code",
   "execution_count": 90,
   "id": "b4145c0f",
   "metadata": {},
   "outputs": [
    {
     "data": {
      "image/png": "[encoded data removed]",
      "text/plain": [
       "<Figure size 1000x700 with 1 Axes>"
      ]
     },
     "metadata": {},
     "output_type": "display_data"
    }
   ],
   "source": [
    "_ = df_q4[df_q4['number_of_reviews']>200].hist(column = 'number_of_reviews', bins = 40, figsize = (10,7))\n",
    "plt.show()"
   ]
  },
  {
   "cell_type": "code",
   "execution_count": 92,
   "id": "e96372f4",
   "metadata": {},
   "outputs": [
    {
     "data": {
      "text/html": [
       "<div>\n",
       "<style scoped>\n",
       "    .dataframe tbody tr th:only-of-type {\n",
       "        vertical-align: middle;\n",
       "    }\n",
       "\n",
       "    .dataframe tbody tr th {\n",
       "        vertical-align: top;\n",
       "    }\n",
       "\n",
       "    .dataframe thead th {\n",
       "        text-align: right;\n",
       "    }\n",
       "</style>\n",
       "<table border=\"1\" class=\"dataframe\">\n",
       "  <thead>\n",
       "    <tr style=\"text-align: right;\">\n",
       "      <th></th>\n",
       "      <th>number_of_reviews</th>\n",
       "      <th>mean_rating</th>\n",
       "    </tr>\n",
       "    <tr>\n",
       "      <th>beer_beerId</th>\n",
       "      <th></th>\n",
       "      <th></th>\n",
       "    </tr>\n",
       "  </thead>\n",
       "  <tbody>\n",
       "    <tr>\n",
       "      <th>56082</th>\n",
       "      <td>246</td>\n",
       "      <td>4.630081</td>\n",
       "    </tr>\n",
       "    <tr>\n",
       "      <th>16814</th>\n",
       "      <td>443</td>\n",
       "      <td>4.623025</td>\n",
       "    </tr>\n",
       "    <tr>\n",
       "      <th>47658</th>\n",
       "      <td>618</td>\n",
       "      <td>4.597087</td>\n",
       "    </tr>\n",
       "  </tbody>\n",
       "</table>\n",
       "</div>"
      ],
      "text/plain": [
       "             number_of_reviews  mean_rating\n",
       "beer_beerId                                \n",
       "56082                      246     4.630081\n",
       "16814                      443     4.623025\n",
       "47658                      618     4.597087"
      ]
     },
     "execution_count": 92,
     "metadata": {},
     "output_type": "execute_result"
    }
   ],
   "source": [
    "df_q4[df_q4['number_of_reviews']>200].head(3)"
   ]
  },
  {
   "cell_type": "code",
   "execution_count": 96,
   "id": "548dfe3d",
   "metadata": {},
   "outputs": [
    {
     "data": {
      "text/html": [
       "<div>\n",
       "<style scoped>\n",
       "    .dataframe tbody tr th:only-of-type {\n",
       "        vertical-align: middle;\n",
       "    }\n",
       "\n",
       "    .dataframe tbody tr th {\n",
       "        vertical-align: top;\n",
       "    }\n",
       "\n",
       "    .dataframe thead th {\n",
       "        text-align: right;\n",
       "    }\n",
       "</style>\n",
       "<table border=\"1\" class=\"dataframe\">\n",
       "  <thead>\n",
       "    <tr style=\"text-align: right;\">\n",
       "      <th></th>\n",
       "      <th>beer_ABV</th>\n",
       "      <th>beer_beerId</th>\n",
       "      <th>beer_brewerId</th>\n",
       "      <th>beer_name</th>\n",
       "      <th>beer_style</th>\n",
       "      <th>review_appearance</th>\n",
       "      <th>review_palette</th>\n",
       "      <th>review_overall</th>\n",
       "      <th>review_taste</th>\n",
       "      <th>review_profileName</th>\n",
       "      <th>review_aroma</th>\n",
       "      <th>review_text</th>\n",
       "      <th>review_time</th>\n",
       "      <th>review_year</th>\n",
       "    </tr>\n",
       "  </thead>\n",
       "  <tbody>\n",
       "    <tr>\n",
       "      <th>335037</th>\n",
       "      <td>8.0</td>\n",
       "      <td>56082</td>\n",
       "      <td>14064</td>\n",
       "      <td>Citra DIPA</td>\n",
       "      <td>American Double / Imperial IPA</td>\n",
       "      <td>4.5</td>\n",
       "      <td>5.0</td>\n",
       "      <td>5.0</td>\n",
       "      <td>5.0</td>\n",
       "      <td>OTB</td>\n",
       "      <td>5.0</td>\n",
       "      <td>I was fortunate to get two fresh bottles this ...</td>\n",
       "      <td>1322876922</td>\n",
       "      <td>2011</td>\n",
       "    </tr>\n",
       "    <tr>\n",
       "      <th>378616</th>\n",
       "      <td>8.0</td>\n",
       "      <td>16814</td>\n",
       "      <td>27039</td>\n",
       "      <td>Heady Topper</td>\n",
       "      <td>American Double / Imperial IPA</td>\n",
       "      <td>4.0</td>\n",
       "      <td>5.0</td>\n",
       "      <td>5.0</td>\n",
       "      <td>5.0</td>\n",
       "      <td>icepik</td>\n",
       "      <td>5.0</td>\n",
       "      <td>A : Golden to amber color, large bubbles, some...</td>\n",
       "      <td>1325180700</td>\n",
       "      <td>2011</td>\n",
       "    </tr>\n",
       "    <tr>\n",
       "      <th>16698</th>\n",
       "      <td>10.6</td>\n",
       "      <td>47658</td>\n",
       "      <td>1199</td>\n",
       "      <td>Founders CBS Imperial Stout</td>\n",
       "      <td>American Double / Imperial Stout</td>\n",
       "      <td>4.5</td>\n",
       "      <td>4.5</td>\n",
       "      <td>5.0</td>\n",
       "      <td>5.0</td>\n",
       "      <td>treyrab</td>\n",
       "      <td>5.0</td>\n",
       "      <td>After hearing so much about this beer, a sixte...</td>\n",
       "      <td>1245635836</td>\n",
       "      <td>2009</td>\n",
       "    </tr>\n",
       "  </tbody>\n",
       "</table>\n",
       "</div>"
      ],
      "text/plain": [
       "        beer_ABV  beer_beerId  beer_brewerId                    beer_name  \\\n",
       "335037       8.0        56082          14064                   Citra DIPA   \n",
       "378616       8.0        16814          27039                 Heady Topper   \n",
       "16698       10.6        47658           1199  Founders CBS Imperial Stout   \n",
       "\n",
       "                              beer_style  review_appearance  review_palette  \\\n",
       "335037    American Double / Imperial IPA                4.5             5.0   \n",
       "378616    American Double / Imperial IPA                4.0             5.0   \n",
       "16698   American Double / Imperial Stout                4.5             4.5   \n",
       "\n",
       "        review_overall  review_taste review_profileName  review_aroma  \\\n",
       "335037             5.0           5.0                OTB           5.0   \n",
       "378616             5.0           5.0             icepik           5.0   \n",
       "16698              5.0           5.0            treyrab           5.0   \n",
       "\n",
       "                                              review_text  review_time  \\\n",
       "335037  I was fortunate to get two fresh bottles this ...   1322876922   \n",
       "378616  A : Golden to amber color, large bubbles, some...   1325180700   \n",
       "16698   After hearing so much about this beer, a sixte...   1245635836   \n",
       "\n",
       "        review_year  \n",
       "335037         2011  \n",
       "378616         2011  \n",
       "16698          2009  "
      ]
     },
     "execution_count": 96,
     "metadata": {},
     "output_type": "execute_result"
    }
   ],
   "source": [
    "df[(df[\"beer_beerId\"] == 56082) | (df[\"beer_beerId\"] == 47658) | (df[\"beer_beerId\"] == 16814)].drop_duplicates(subset = 'beer_beerId')"
   ]
  },
  {
   "cell_type": "markdown",
   "id": "26f76e23",
   "metadata": {},
   "source": [
    "VADER (Valence Aware Dictionary and sEntiment Reasoner) is a specific tool used within NLP for sentiment analysis. It is designed to be particularly effective at analyzing social media texts, which often include slang, abbreviations, and emoticons.\n",
    "VADER provides four sentiment scores:-\n",
    "Positive - The proportion of text that is positive.\n",
    "Negative - The proportion of text that is negative.\n",
    "Neutral - The proportion of text that is neutral.\n",
    "Compound - A normalized, weighted composite score that sums the positive, negative, and neutral scores. The compound score ranges from -1 (most negative) to +1 (most positive)."
   ]
  },
  {
   "cell_type": "code",
   "execution_count": 98,
   "id": "319bf329",
   "metadata": {},
   "outputs": [
    {
     "name": "stdout",
     "output_type": "stream",
     "text": [
      "Defaulting to user installation because normal site-packages is not writeable\n",
      "Collecting vaderSentiment\n",
      "  Obtaining dependency information for vaderSentiment from https://files.pythonhosted.org/packages/76/fc/310e16254683c1ed35eeb97386986d6c00bc29df17ce280aed64d55537e9/vaderSentiment-3.3.2-py2.py3-none-any.whl.metadata\n",
      "  Downloading vaderSentiment-3.3.2-py2.py3-none-any.whl.metadata (572 bytes)\n",
      "Requirement already satisfied: requests in c:\\programdata\\anaconda3\\lib\\site-packages (from vaderSentiment) (2.31.0)\n",
      "Requirement already satisfied: charset-normalizer<4,>=2 in c:\\programdata\\anaconda3\\lib\\site-packages (from requests->vaderSentiment) (2.0.4)\n",
      "Requirement already satisfied: idna<4,>=2.5 in c:\\programdata\\anaconda3\\lib\\site-packages (from requests->vaderSentiment) (3.4)\n",
      "Requirement already satisfied: urllib3<3,>=1.21.1 in c:\\programdata\\anaconda3\\lib\\site-packages (from requests->vaderSentiment) (1.26.16)\n",
      "Requirement already satisfied: certifi>=2017.4.17 in c:\\programdata\\anaconda3\\lib\\site-packages (from requests->vaderSentiment) (2024.2.2)\n",
      "Downloading vaderSentiment-3.3.2-py2.py3-none-any.whl (125 kB)\n",
      "   ---------------------------------------- 0.0/126.0 kB ? eta -:--:--\n",
      "   --- ------------------------------------ 10.2/126.0 kB ? eta -:--:--\n",
      "   ------------ -------------------------- 41.0/126.0 kB 487.6 kB/s eta 0:00:01\n",
      "   ---------------------------------------- 126.0/126.0 kB 1.1 MB/s eta 0:00:00\n",
      "Installing collected packages: vaderSentiment\n",
      "Successfully installed vaderSentiment-3.3.2\n"
     ]
    }
   ],
   "source": [
    "!pip install vaderSentiment"
   ]
  },
  {
   "cell_type": "code",
   "execution_count": 101,
   "id": "de8f9532",
   "metadata": {},
   "outputs": [],
   "source": [
    "from vaderSentiment.vaderSentiment import SentimentIntensityAnalyzer\n",
    "analyzer = SentimentIntensityAnalyzer()"
   ]
  },
  {
   "cell_type": "code",
   "execution_count": 102,
   "id": "1c16918b",
   "metadata": {},
   "outputs": [],
   "source": [
    "df['sentiment_score'] = df['review_text'].apply(lambda x : analyzer.polarity_scores(text = x)['compound'])"
   ]
  },
  {
   "cell_type": "code",
   "execution_count": 109,
   "id": "8175dd9f",
   "metadata": {},
   "outputs": [
    {
     "data": {
      "text/html": [
       "<div>\n",
       "<style scoped>\n",
       "    .dataframe tbody tr th:only-of-type {\n",
       "        vertical-align: middle;\n",
       "    }\n",
       "\n",
       "    .dataframe tbody tr th {\n",
       "        vertical-align: top;\n",
       "    }\n",
       "\n",
       "    .dataframe thead th {\n",
       "        text-align: right;\n",
       "    }\n",
       "</style>\n",
       "<table border=\"1\" class=\"dataframe\">\n",
       "  <thead>\n",
       "    <tr style=\"text-align: right;\">\n",
       "      <th></th>\n",
       "      <th>mean</th>\n",
       "      <th>count</th>\n",
       "    </tr>\n",
       "    <tr>\n",
       "      <th>beer_style</th>\n",
       "      <th></th>\n",
       "      <th></th>\n",
       "    </tr>\n",
       "  </thead>\n",
       "  <tbody>\n",
       "    <tr>\n",
       "      <th>Quadrupel (Quad)</th>\n",
       "      <td>0.861608</td>\n",
       "      <td>4808</td>\n",
       "    </tr>\n",
       "    <tr>\n",
       "      <th>Eisbock</th>\n",
       "      <td>0.860557</td>\n",
       "      <td>194</td>\n",
       "    </tr>\n",
       "    <tr>\n",
       "      <th>Flanders Red Ale</th>\n",
       "      <td>0.858655</td>\n",
       "      <td>2751</td>\n",
       "    </tr>\n",
       "    <tr>\n",
       "      <th>Roggenbier</th>\n",
       "      <td>0.856254</td>\n",
       "      <td>137</td>\n",
       "    </tr>\n",
       "    <tr>\n",
       "      <th>Dortmunder / Export Lager</th>\n",
       "      <td>0.854816</td>\n",
       "      <td>1709</td>\n",
       "    </tr>\n",
       "    <tr>\n",
       "      <th>...</th>\n",
       "      <td>...</td>\n",
       "      <td>...</td>\n",
       "    </tr>\n",
       "    <tr>\n",
       "      <th>American Malt Liquor</th>\n",
       "      <td>0.540732</td>\n",
       "      <td>1332</td>\n",
       "    </tr>\n",
       "    <tr>\n",
       "      <th>Happoshu</th>\n",
       "      <td>0.522789</td>\n",
       "      <td>55</td>\n",
       "    </tr>\n",
       "    <tr>\n",
       "      <th>Japanese Rice Lager</th>\n",
       "      <td>0.517325</td>\n",
       "      <td>488</td>\n",
       "    </tr>\n",
       "    <tr>\n",
       "      <th>Light Lager</th>\n",
       "      <td>0.487206</td>\n",
       "      <td>4127</td>\n",
       "    </tr>\n",
       "    <tr>\n",
       "      <th>Low Alcohol Beer</th>\n",
       "      <td>0.422591</td>\n",
       "      <td>145</td>\n",
       "    </tr>\n",
       "  </tbody>\n",
       "</table>\n",
       "<p>104 rows × 2 columns</p>\n",
       "</div>"
      ],
      "text/plain": [
       "                               mean  count\n",
       "beer_style                                \n",
       "Quadrupel (Quad)           0.861608   4808\n",
       "Eisbock                    0.860557    194\n",
       "Flanders Red Ale           0.858655   2751\n",
       "Roggenbier                 0.856254    137\n",
       "Dortmunder / Export Lager  0.854816   1709\n",
       "...                             ...    ...\n",
       "American Malt Liquor       0.540732   1332\n",
       "Happoshu                   0.522789     55\n",
       "Japanese Rice Lager        0.517325    488\n",
       "Light Lager                0.487206   4127\n",
       "Low Alcohol Beer           0.422591    145\n",
       "\n",
       "[104 rows x 2 columns]"
      ]
     },
     "execution_count": 109,
     "metadata": {},
     "output_type": "execute_result"
    }
   ],
   "source": [
    "df.groupby(by = df['beer_style'])['sentiment_score'].agg(['mean', 'count']).sort_values(by = 'mean', ascending = False)"
   ]
  },
  {
   "cell_type": "code",
   "execution_count": 112,
   "id": "98ee9a2d",
   "metadata": {},
   "outputs": [
    {
     "data": {
      "text/html": [
       "<div>\n",
       "<style scoped>\n",
       "    .dataframe tbody tr th:only-of-type {\n",
       "        vertical-align: middle;\n",
       "    }\n",
       "\n",
       "    .dataframe tbody tr th {\n",
       "        vertical-align: top;\n",
       "    }\n",
       "\n",
       "    .dataframe thead th {\n",
       "        text-align: right;\n",
       "    }\n",
       "</style>\n",
       "<table border=\"1\" class=\"dataframe\">\n",
       "  <thead>\n",
       "    <tr style=\"text-align: right;\">\n",
       "      <th></th>\n",
       "      <th>sentiment_score</th>\n",
       "      <th>review_overall</th>\n",
       "    </tr>\n",
       "  </thead>\n",
       "  <tbody>\n",
       "    <tr>\n",
       "      <th>sentiment_score</th>\n",
       "      <td>1.000000</td>\n",
       "      <td>0.253274</td>\n",
       "    </tr>\n",
       "    <tr>\n",
       "      <th>review_overall</th>\n",
       "      <td>0.253274</td>\n",
       "      <td>1.000000</td>\n",
       "    </tr>\n",
       "  </tbody>\n",
       "</table>\n",
       "</div>"
      ],
      "text/plain": [
       "                 sentiment_score  review_overall\n",
       "sentiment_score         1.000000        0.253274\n",
       "review_overall          0.253274        1.000000"
      ]
     },
     "execution_count": 112,
     "metadata": {},
     "output_type": "execute_result"
    }
   ],
   "source": [
    "df_q5 = df[df['beer_style']=='Quadrupel (Quad)']\n",
    "df_q5[['sentiment_score', 'review_overall']].corr()"
   ]
  },
  {
   "cell_type": "code",
   "execution_count": 113,
   "id": "3c08a439",
   "metadata": {},
   "outputs": [
    {
     "data": {
      "text/html": [
       "<div>\n",
       "<style scoped>\n",
       "    .dataframe tbody tr th:only-of-type {\n",
       "        vertical-align: middle;\n",
       "    }\n",
       "\n",
       "    .dataframe tbody tr th {\n",
       "        vertical-align: top;\n",
       "    }\n",
       "\n",
       "    .dataframe thead th {\n",
       "        text-align: right;\n",
       "    }\n",
       "</style>\n",
       "<table border=\"1\" class=\"dataframe\">\n",
       "  <thead>\n",
       "    <tr style=\"text-align: right;\">\n",
       "      <th></th>\n",
       "      <th>sentiment_score</th>\n",
       "      <th>review_overall</th>\n",
       "      <th>review_appearance</th>\n",
       "      <th>review_palette</th>\n",
       "      <th>review_taste</th>\n",
       "      <th>review_aroma</th>\n",
       "    </tr>\n",
       "  </thead>\n",
       "  <tbody>\n",
       "    <tr>\n",
       "      <th>sentiment_score</th>\n",
       "      <td>1.000000</td>\n",
       "      <td>0.253274</td>\n",
       "      <td>0.200282</td>\n",
       "      <td>0.236291</td>\n",
       "      <td>0.256157</td>\n",
       "      <td>0.287203</td>\n",
       "    </tr>\n",
       "    <tr>\n",
       "      <th>review_overall</th>\n",
       "      <td>0.253274</td>\n",
       "      <td>1.000000</td>\n",
       "      <td>0.478391</td>\n",
       "      <td>0.578117</td>\n",
       "      <td>0.678657</td>\n",
       "      <td>0.759777</td>\n",
       "    </tr>\n",
       "    <tr>\n",
       "      <th>review_appearance</th>\n",
       "      <td>0.200282</td>\n",
       "      <td>0.478391</td>\n",
       "      <td>1.000000</td>\n",
       "      <td>0.474686</td>\n",
       "      <td>0.509205</td>\n",
       "      <td>0.487466</td>\n",
       "    </tr>\n",
       "    <tr>\n",
       "      <th>review_palette</th>\n",
       "      <td>0.236291</td>\n",
       "      <td>0.578117</td>\n",
       "      <td>0.474686</td>\n",
       "      <td>1.000000</td>\n",
       "      <td>0.538143</td>\n",
       "      <td>0.630107</td>\n",
       "    </tr>\n",
       "    <tr>\n",
       "      <th>review_taste</th>\n",
       "      <td>0.256157</td>\n",
       "      <td>0.678657</td>\n",
       "      <td>0.509205</td>\n",
       "      <td>0.538143</td>\n",
       "      <td>1.000000</td>\n",
       "      <td>0.688289</td>\n",
       "    </tr>\n",
       "    <tr>\n",
       "      <th>review_aroma</th>\n",
       "      <td>0.287203</td>\n",
       "      <td>0.759777</td>\n",
       "      <td>0.487466</td>\n",
       "      <td>0.630107</td>\n",
       "      <td>0.688289</td>\n",
       "      <td>1.000000</td>\n",
       "    </tr>\n",
       "  </tbody>\n",
       "</table>\n",
       "</div>"
      ],
      "text/plain": [
       "                   sentiment_score  review_overall  review_appearance  \\\n",
       "sentiment_score           1.000000        0.253274           0.200282   \n",
       "review_overall            0.253274        1.000000           0.478391   \n",
       "review_appearance         0.200282        0.478391           1.000000   \n",
       "review_palette            0.236291        0.578117           0.474686   \n",
       "review_taste              0.256157        0.678657           0.509205   \n",
       "review_aroma              0.287203        0.759777           0.487466   \n",
       "\n",
       "                   review_palette  review_taste  review_aroma  \n",
       "sentiment_score          0.236291      0.256157      0.287203  \n",
       "review_overall           0.578117      0.678657      0.759777  \n",
       "review_appearance        0.474686      0.509205      0.487466  \n",
       "review_palette           1.000000      0.538143      0.630107  \n",
       "review_taste             0.538143      1.000000      0.688289  \n",
       "review_aroma             0.630107      0.688289      1.000000  "
      ]
     },
     "execution_count": 113,
     "metadata": {},
     "output_type": "execute_result"
    }
   ],
   "source": [
    "df_q5[['sentiment_score', 'review_overall', 'review_appearance', 'review_palette', 'review_taste', 'review_aroma']].corr()"
   ]
  },
  {
   "cell_type": "code",
   "execution_count": 121,
   "id": "8cdb6caa",
   "metadata": {},
   "outputs": [
    {
     "data": {
      "image/png": "[encoded data removed]",
      "text/plain": [
       "<Figure size 1000x500 with 2 Axes>"
      ]
     },
     "metadata": {},
     "output_type": "display_data"
    }
   ],
   "source": [
    "plt.figure(figsize = (10,5))\n",
    "_ = sns.heatmap(data = df_q5[['sentiment_score', 'review_overall', 'review_appearance', 'review_palette', 'review_taste', 'review_aroma']].corr(), annot = True)\n",
    "plt.show()"
   ]
  },
  {
   "cell_type": "code",
   "execution_count": null,
   "id": "eef7b100",
   "metadata": {},
   "outputs": [],
   "source": []
  }
 ],
 "metadata": {
  "kernelspec": {
   "display_name": "Python 3 (ipykernel)",
   "language": "python",
   "name": "python3"
  },
  "language_info": {
   "codemirror_mode": {
    "name": "ipython",
    "version": 3
   },
   "file_extension": ".py",
   "mimetype": "text/x-python",
   "name": "python",
   "nbconvert_exporter": "python",
   "pygments_lexer": "ipython3",
   "version": "3.11.5"
  }
 },
 "nbformat": 4,
 "nbformat_minor": 5
}
